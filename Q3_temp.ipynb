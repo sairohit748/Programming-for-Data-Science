{
 "cells": [
  {
   "cell_type": "code",
   "execution_count": 1,
   "metadata": {},
   "outputs": [],
   "source": [
    "import io\n",
    "import os\n",
    "import re\n",
    "import fileinput\n",
    "import sys"
   ]
  },
  {
   "cell_type": "code",
   "execution_count": 9,
   "metadata": {},
   "outputs": [
    {
     "name": "stdout",
     "output_type": "stream",
     "text": [
      "D:\\STUDY\\SEM1\\OOP\\ARRAYMETHODEMO.txt\n",
      "ARRAYMETHODEMO.txt\n",
      "D:\\STUDY\\SEM1\\OOP\\CARRENTAL.txt\n",
      "CARRENTAL.txt\n",
      "D:\\STUDY\\SEM1\\OOP\\EMPLOYEE.txt\n",
      "EMPLOYEE.txt\n",
      "D:\\STUDY\\SEM1\\OOP\\EMPLOYEEDEMO.txt\n",
      "EMPLOYEEDEMO.txt\n",
      "D:\\STUDY\\SEM1\\OOP\\FACTS.txt\n",
      "FACTS.txt\n",
      "D:\\STUDY\\SEM1\\OOP\\Hi_1.txt\n",
      "Hi_1.txt\n",
      "D:\\STUDY\\SEM1\\OOP\\java project part1.pdf\n",
      "java project part1.pdf\n",
      "D:\\STUDY\\SEM1\\OOP\\java project part2.pdf\n",
      "java project part2.pdf\n",
      "D:\\STUDY\\SEM1\\OOP\\java project part3.pdf\n",
      "java project part3.pdf\n",
      "D:\\STUDY\\SEM1\\OOP\\LUXURYCARRENTAL.txt\n",
      "LUXURYCARRENTAL.txt\n",
      "D:\\STUDY\\SEM1\\OOP\\SALESPERSON.txt\n",
      "SALESPERSON.txt\n",
      "D:\\STUDY\\SEM1\\OOP\\SALESPERSONDEMO.txt\n",
      "SALESPERSONDEMO.txt\n"
     ]
    }
   ],
   "source": [
    "folder='D:\\\\STUDY\\\\SEM1\\\\OOP'\n",
    "#pattern=','\n",
    "subst='I am very fine\\n'   \n",
    "#file='^Hi'   \n",
    "#print(file)\n",
    "\n",
    "folder='D:\\STUDY\\SEM1\\OOP'\n",
    "subst='I am very fine\\n'\n",
    "for root, dirs, files in os.walk(folder, topdown=False):\n",
    "   for name in files:\n",
    "      x = os.path.join(root, name)\n",
    "      #print(x)\n",
    "      if re.findall(r'\\w\\.',name):\n",
    "          print(os.path.join(root, name))\n",
    "          print(name)\n",
    "          #os.chdir(os.path.join(root))\n",
    "          #file_handle = open(name, 'r')\n",
    "          #file_string = file_handle.readlines()\n",
    "          #file_handle.close()\n",
    "          #count=0\n",
    "          #for line in file_string:\n",
    "           #  print(line)\n",
    "            # if re.search(',',line):\n",
    "             #   file_string[count]=subst\n",
    "             #count+=1\n",
    "          #print(file_string)\n",
    "          #new_line=''.join(file_string)\n",
    "          #file_handle = open(name, 'w')\n",
    "          #file_handle.write(new_line)\n",
    "          #file_handle.close()          \n",
    "       \n",
    "      "
   ]
  }
 ],
 "metadata": {
  "kernelspec": {
   "display_name": "Python 3",
   "language": "python",
   "name": "python3"
  },
  "language_info": {
   "codemirror_mode": {
    "name": "ipython",
    "version": 3
   },
   "file_extension": ".py",
   "mimetype": "text/x-python",
   "name": "python",
   "nbconvert_exporter": "python",
   "pygments_lexer": "ipython3",
   "version": "3.6.4"
  }
 },
 "nbformat": 4,
 "nbformat_minor": 2
}
