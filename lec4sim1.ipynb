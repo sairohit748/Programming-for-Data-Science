{
 "cells": [
  {
   "cell_type": "code",
   "execution_count": 2,
   "metadata": {},
   "outputs": [
    {
     "name": "stderr",
     "output_type": "stream",
     "text": [
      "C:\\Anaconda\\lib\\site-packages\\statsmodels\\compat\\pandas.py:56: FutureWarning: The pandas.core.datetools module is deprecated and will be removed in a future version. Please use the pandas.tseries module instead.\n",
      "  from pandas.core import datetools\n"
     ]
    }
   ],
   "source": [
    "import numpy as np\n",
    "import pandas as pd\n",
    "import statsmodels.api as sm\n",
    "import statsmodels.formula.api as smf"
   ]
  },
  {
   "cell_type": "code",
   "execution_count": 4,
   "metadata": {},
   "outputs": [
    {
     "name": "stdout",
     "output_type": "stream",
     "text": [
      "[[ 0.10555896  0.22415646  0.34322405  0.55030806  1.        ]\n",
      " [ 0.04394012  0.08193936  0.12325001  0.20225609  0.42510906]\n",
      " [ 0.01983272  0.04106161  0.06031676  0.10153808  0.20388295]\n",
      " [ 0.01004529  0.02106374  0.02895429  0.05159638  0.10192699]\n",
      " [ 0.00379237  0.00816725  0.01228554  0.02046998  0.03995487]]\n"
     ]
    }
   ],
   "source": [
    "sig = 0.5\n",
    "nsim = 1000\n",
    "Tvec = [10,25,50,100,250]\n",
    "nvec = [1,2,3,5,10]\n",
    "holding_place = np.zeros((nsim,len(Tvec),len(nvec)))\n",
    "for ndx,n in enumerate(nvec):\n",
    "    for tdx,T in enumerate(Tvec):\n",
    "        for isim in range(nsim):\n",
    "            y = np.random.normal(0,sig,size=(T,1))\n",
    "            x = np.random.normal(0,sig,size=(T,n))\n",
    "            x = sm.add_constant(x)\n",
    "            model = smf.OLS(y,x).fit()\n",
    "            #np.vstack((x.mean(0),x.std(0))).T\n",
    "            holding_place[isim,tdx,ndx] = model.rsquared \n",
    "print(holding_place.mean(0))"
   ]
  },
  {
   "cell_type": "code",
   "execution_count": 74,
   "metadata": {},
   "outputs": [
    {
     "data": {
      "text/plain": [
       "array([-0.06665154,  0.68234313])"
      ]
     },
     "execution_count": 74,
     "metadata": {},
     "output_type": "execute_result"
    }
   ],
   "source": [
    "T=50\n",
    "sig=0.5\n",
    "rho=0.75\n",
    "y = np.random.normal(0,sig,size=(T+100,1))\n",
    "for t in range(1,T+100):\n",
    "    y[t] += rho*y[t-1]\n",
    "y = y[100:]\n",
    "y_0 = y[2:T]\n",
    "y_1 = y[1:T-1]\n",
    "xdata = sm.add_constant(y_1)\n",
    "smf.OLS(y_0,y_1).fit().params\n",
    "smf.OLS(y_0,xdata).fit().params\n",
    "#0.5657013738527894*0.75**2+0.25"
   ]
  }
 ],
 "metadata": {
  "kernelspec": {
   "display_name": "Python 3",
   "language": "python",
   "name": "python3"
  },
  "language_info": {
   "codemirror_mode": {
    "name": "ipython",
    "version": 3
   },
   "file_extension": ".py",
   "mimetype": "text/x-python",
   "name": "python",
   "nbconvert_exporter": "python",
   "pygments_lexer": "ipython3",
   "version": "3.6.4"
  }
 },
 "nbformat": 4,
 "nbformat_minor": 2
}
