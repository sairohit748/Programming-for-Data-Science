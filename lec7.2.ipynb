{
 "cells": [
  {
   "cell_type": "code",
   "execution_count": 21,
   "metadata": {},
   "outputs": [
    {
     "data": {
      "text/plain": [
       "[[0, 'AH'],\n",
       " [1, '2H'],\n",
       " [2, '3H'],\n",
       " [3, '4H'],\n",
       " [4, '5H'],\n",
       " [5, '6H'],\n",
       " [6, '7H'],\n",
       " [7, '8H'],\n",
       " [8, '9H'],\n",
       " [9, 'TH'],\n",
       " [10, 'JH'],\n",
       " [11, 'QH'],\n",
       " [12, 'KH'],\n",
       " [13, 'AD'],\n",
       " [14, '2D'],\n",
       " [15, '3D'],\n",
       " [16, '4D'],\n",
       " [17, '5D'],\n",
       " [18, '6D'],\n",
       " [19, '7D'],\n",
       " [20, '8D'],\n",
       " [21, '9D'],\n",
       " [22, 'TD'],\n",
       " [23, 'JD'],\n",
       " [24, 'QD'],\n",
       " [25, 'KD'],\n",
       " [26, 'AS'],\n",
       " [27, '2S'],\n",
       " [28, '3S'],\n",
       " [29, '4S'],\n",
       " [30, '5S'],\n",
       " [31, '6S'],\n",
       " [32, '7S'],\n",
       " [33, '8S'],\n",
       " [34, '9S'],\n",
       " [35, 'TS'],\n",
       " [36, 'JS'],\n",
       " [37, 'QS'],\n",
       " [38, 'KS'],\n",
       " [39, 'AC'],\n",
       " [40, '2C'],\n",
       " [41, '3C'],\n",
       " [42, '4C'],\n",
       " [43, '5C'],\n",
       " [44, '6C'],\n",
       " [45, '7C'],\n",
       " [46, '8C'],\n",
       " [47, '9C'],\n",
       " [48, 'TC'],\n",
       " [49, 'JC'],\n",
       " [50, 'QC'],\n",
       " [51, 'KC']]"
      ]
     },
     "execution_count": 21,
     "metadata": {},
     "output_type": "execute_result"
    }
   ],
   "source": [
    "suits = ['H','D','S','C']\n",
    "cards = ['A','2','3','4','5','6','7','8','9','T','J','Q','K']\n",
    "deck = []\n",
    "count = 0\n",
    "for s in suits:\n",
    "    for c in cards:\n",
    "        deck.append([count,c+s])\n",
    "        count += 1\n",
    "deck"
   ]
  },
  {
   "cell_type": "code",
   "execution_count": 22,
   "metadata": {},
   "outputs": [
    {
     "data": {
      "text/plain": [
       "[[19, '7D'],\n",
       " [10, 'JH'],\n",
       " [18, '6D'],\n",
       " [34, '9S'],\n",
       " [43, '5C'],\n",
       " [5, '6H'],\n",
       " [26, 'AS'],\n",
       " [51, 'KC'],\n",
       " [50, 'QC'],\n",
       " [25, 'KD'],\n",
       " [44, '6C'],\n",
       " [17, '5D'],\n",
       " [15, '3D'],\n",
       " [35, 'TS'],\n",
       " [12, 'KH'],\n",
       " [24, 'QD'],\n",
       " [6, '7H'],\n",
       " [30, '5S'],\n",
       " [49, 'JC'],\n",
       " [46, '8C'],\n",
       " [47, '9C'],\n",
       " [39, 'AC'],\n",
       " [16, '4D'],\n",
       " [0, 'AH'],\n",
       " [9, 'TH'],\n",
       " [21, '9D'],\n",
       " [41, '3C'],\n",
       " [20, '8D'],\n",
       " [29, '4S'],\n",
       " [28, '3S'],\n",
       " [2, '3H'],\n",
       " [37, 'QS'],\n",
       " [48, 'TC'],\n",
       " [33, '8S'],\n",
       " [45, '7C'],\n",
       " [11, 'QH'],\n",
       " [38, 'KS'],\n",
       " [27, '2S'],\n",
       " [36, 'JS'],\n",
       " [7, '8H'],\n",
       " [22, 'TD'],\n",
       " [8, '9H'],\n",
       " [1, '2H'],\n",
       " [13, 'AD'],\n",
       " [40, '2C'],\n",
       " [32, '7S'],\n",
       " [23, 'JD'],\n",
       " [3, '4H'],\n",
       " [31, '6S'],\n",
       " [42, '4C'],\n",
       " [14, '2D'],\n",
       " [4, '5H']]"
      ]
     },
     "execution_count": 22,
     "metadata": {},
     "output_type": "execute_result"
    }
   ],
   "source": [
    "import random\n",
    "shuffle = [item + [random.random()] for item in deck]\n",
    "#def third(x):\n",
    "#    return x[2]\n",
    "#shuffle.sort(key=third)\n",
    "shuffle.sort(key=lambda x: x[2])\n",
    "shuffle = [item[:2] for item in shuffle]\n",
    "shuffle"
   ]
  }
 ],
 "metadata": {
  "kernelspec": {
   "display_name": "Python 3",
   "language": "python",
   "name": "python3"
  },
  "language_info": {
   "codemirror_mode": {
    "name": "ipython",
    "version": 3
   },
   "file_extension": ".py",
   "mimetype": "text/x-python",
   "name": "python",
   "nbconvert_exporter": "python",
   "pygments_lexer": "ipython3",
   "version": "3.6.1"
  }
 },
 "nbformat": 4,
 "nbformat_minor": 2
}
