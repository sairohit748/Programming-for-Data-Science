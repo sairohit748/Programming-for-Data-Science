{
 "cells": [
  {
   "cell_type": "code",
   "execution_count": 21,
   "metadata": {},
   "outputs": [],
   "source": [
    "import io\n",
    "import os\n",
    "import re\n",
    "import fileinput\n",
    "import sys"
   ]
  },
  {
   "cell_type": "code",
   "execution_count": 32,
   "metadata": {},
   "outputs": [
    {
     "name": "stdout",
     "output_type": "stream",
     "text": [
      "D:\\STUDY\\SEM1\\OOP\\Hi_1.txt\n",
      "Hi_1.txt\n",
      "['I am very fine\\n', '/* Type of SQL : Oracle */']\n"
     ]
    }
   ],
   "source": [
    "folder='D:\\\\STUDY\\\\SEM1\\\\OOP'\n",
    "#pattern=','\n",
    "subst='I am very fine\\n'   \n",
    "#file='^Hi'   \n",
    "#print(file)\n",
    "\n",
    "folder='D:\\\\STUDY\\\\SEM1\\\\OOP'\n",
    "subst='I am very fine\\n'\n",
    "for root, dirs, files in os.walk(folder, topdown=False):\n",
    "   for name in files:\n",
    "      x = os.path.join(root, name)\n",
    "      #print(x)\n",
    "      if re.search('^Hi',name):\n",
    "          print(os.path.join(root, name))\n",
    "          print(name)\n",
    "          os.chdir(os.path.join(root))\n",
    "          file_handle = open(name, 'r')\n",
    "          file_string = file_handle.readlines()\n",
    "          file_handle.close()\n",
    "          count=0\n",
    "          print(file_string)\n",
    "          new_line=''.join(file_string)\n",
    "          file_handle = open(name, 'a+')\n",
    "          file_handle.write(subst)\n",
    "          file_handle.close()\n",
    "            \n",
    "       "
   ]
  }
 ],
 "metadata": {
  "kernelspec": {
   "display_name": "Python 3",
   "language": "python",
   "name": "python3"
  },
  "language_info": {
   "codemirror_mode": {
    "name": "ipython",
    "version": 3
   },
   "file_extension": ".py",
   "mimetype": "text/x-python",
   "name": "python",
   "nbconvert_exporter": "python",
   "pygments_lexer": "ipython3",
   "version": "3.6.4"
  }
 },
 "nbformat": 4,
 "nbformat_minor": 2
}
