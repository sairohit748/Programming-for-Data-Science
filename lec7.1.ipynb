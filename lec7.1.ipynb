{
 "cells": [
  {
   "cell_type": "code",
   "execution_count": 38,
   "metadata": {
    "collapsed": true
   },
   "outputs": [],
   "source": [
    "import numpy as np\n",
    "import scipy as sp\n",
    "from scipy.optimize import * "
   ]
  },
  {
   "cell_type": "code",
   "execution_count": 93,
   "metadata": {
    "collapsed": true
   },
   "outputs": [],
   "source": [
    "n = 50\n",
    "x = np.random.normal(size=(50,1))\n",
    "e = np.random.normal(size=(50,1))\n",
    "y = 0.5 + x + e\n",
    "y = (y>=0).astype(int)\n",
    "bigX = np.hstack((np.ones((50,1)),x))\n",
    "(n,r) = bigX.shape"
   ]
  },
  {
   "cell_type": "code",
   "execution_count": null,
   "metadata": {
    "collapsed": true
   },
   "outputs": [],
   "source": []
  },
  {
   "cell_type": "code",
   "execution_count": 94,
   "metadata": {},
   "outputs": [],
   "source": []
  },
  {
   "cell_type": "code",
   "execution_count": 103,
   "metadata": {},
   "outputs": [],
   "source": [
    "\n",
    "#def bigF(val):\n",
    "#    return 1/(1+np.exp(-val))\n",
    "# One line definition\n",
    "bigF = lambda x: 1/(1+np.exp(-x))\n",
    "littleF = lambda x: np.exp(-x)*bigF(x)**2\n",
    "def littleF(val):\n",
    "    return np.exp(-val)*bigF(val)**2\n",
    "def logL(b):\n",
    "    return (y*np.log(bigF(bigX.dot(b)))+(1-y)*np.log(1-bigF(bigX.dot(b)))).sum()\n",
    "def deriv(b):\n",
    "    suma = np.zeros((r,1)) \n",
    "    for i in range(n):\n",
    "        curr = bigX[i,].reshape((r,1))\n",
    "        suma += (y[i,]-bigF(curr.T.dot(b)))*curr\n",
    "    return suma.reshape((r,))\n",
    "def hess(b):\n",
    "    suma = np.zeros((r,r)) \n",
    "    for i in range(n):\n",
    "        curr = bigX[i,].reshape((r,1))\n",
    "        suma += -littleF(curr.T.dot(b))*curr.dot(curr.T)\n",
    "    suma\n",
    "    return suma"
   ]
  },
  {
   "cell_type": "code",
   "execution_count": 96,
   "metadata": {},
   "outputs": [],
   "source": [
    "b = root(deriv,x0=np.zeros((r,)),jac=hess)"
   ]
  },
  {
   "cell_type": "code",
   "execution_count": 105,
   "metadata": {},
   "outputs": [
    {
     "data": {
      "text/plain": [
       "    fjac: array([[-1.]])\n",
       "     fun: array([  8.88178420e-16])\n",
       " message: 'The solution converged.'\n",
       "    nfev: 7\n",
       "    njev: 1\n",
       "     qtf: array([ -8.93145558e-10])\n",
       "       r: array([ 2.82842925])\n",
       "  status: 1\n",
       " success: True\n",
       "       x: array([ 1.41421356])"
      ]
     },
     "execution_count": 105,
     "metadata": {},
     "output_type": "execute_result"
    }
   ],
   "source": [
    "g = root(lambda x: -x**2 + 2,x0=1,jac=lambda x: -2*x)\n",
    "g"
   ]
  },
  {
   "cell_type": "code",
   "execution_count": 97,
   "metadata": {},
   "outputs": [
    {
     "data": {
      "text/plain": [
       "array([ 1.5320155 ,  3.22397916])"
      ]
     },
     "execution_count": 97,
     "metadata": {},
     "output_type": "execute_result"
    }
   ],
   "source": [
    "# Fitted beta hats\n",
    "b.x"
   ]
  },
  {
   "cell_type": "code",
   "execution_count": 98,
   "metadata": {},
   "outputs": [
    {
     "data": {
      "text/plain": [
       "array([[ 0.11808532, -0.04431977],\n",
       "       [-0.04431977,  0.03794551]])"
      ]
     },
     "execution_count": 98,
     "metadata": {},
     "output_type": "execute_result"
    }
   ],
   "source": [
    "# Variance covariance matrix for beta\n",
    "-hess(b.x)/n"
   ]
  },
  {
   "cell_type": "code",
   "execution_count": 81,
   "metadata": {},
   "outputs": [
    {
     "data": {
      "text/html": [
       "<table class=\"simpletable\">\n",
       "<caption>Generalized Linear Model Regression Results</caption>\n",
       "<tr>\n",
       "  <th>Dep. Variable:</th>          <td>y</td>        <th>  No. Observations:  </th>  <td>    50</td> \n",
       "</tr>\n",
       "<tr>\n",
       "  <th>Model:</th>                 <td>GLM</td>       <th>  Df Residuals:      </th>  <td>    48</td> \n",
       "</tr>\n",
       "<tr>\n",
       "  <th>Model Family:</th>       <td>Binomial</td>     <th>  Df Model:          </th>  <td>     1</td> \n",
       "</tr>\n",
       "<tr>\n",
       "  <th>Link Function:</th>        <td>logit</td>      <th>  Scale:             </th>    <td>1.0</td>  \n",
       "</tr>\n",
       "<tr>\n",
       "  <th>Method:</th>               <td>IRLS</td>       <th>  Log-Likelihood:    </th> <td> -27.573</td>\n",
       "</tr>\n",
       "<tr>\n",
       "  <th>Date:</th>           <td>Thu, 12 Jul 2018</td> <th>  Deviance:          </th> <td>  55.147</td>\n",
       "</tr>\n",
       "<tr>\n",
       "  <th>Time:</th>               <td>19:29:22</td>     <th>  Pearson chi2:      </th>  <td>  49.9</td> \n",
       "</tr>\n",
       "<tr>\n",
       "  <th>No. Iterations:</th>         <td>3</td>        <th>                     </th>     <td> </td>   \n",
       "</tr>\n",
       "</table>\n",
       "<table class=\"simpletable\">\n",
       "<tr>\n",
       "    <td></td>       <th>coef</th>     <th>std err</th>      <th>z</th>      <th>P>|z|</th>  <th>[0.025</th>    <th>0.975]</th>  \n",
       "</tr>\n",
       "<tr>\n",
       "  <th>const</th> <td>    0.7852</td> <td>    0.343</td> <td>    2.286</td> <td> 0.022</td> <td>    0.112</td> <td>    1.458</td>\n",
       "</tr>\n",
       "<tr>\n",
       "  <th>x1</th>    <td>    1.5133</td> <td>    0.523</td> <td>    2.894</td> <td> 0.004</td> <td>    0.488</td> <td>    2.538</td>\n",
       "</tr>\n",
       "</table>"
      ],
      "text/plain": [
       "<class 'statsmodels.iolib.summary.Summary'>\n",
       "\"\"\"\n",
       "                 Generalized Linear Model Regression Results                  \n",
       "==============================================================================\n",
       "Dep. Variable:                      y   No. Observations:                   50\n",
       "Model:                            GLM   Df Residuals:                       48\n",
       "Model Family:                Binomial   Df Model:                            1\n",
       "Link Function:                  logit   Scale:                             1.0\n",
       "Method:                          IRLS   Log-Likelihood:                -27.573\n",
       "Date:                Thu, 12 Jul 2018   Deviance:                       55.147\n",
       "Time:                        19:29:22   Pearson chi2:                     49.9\n",
       "No. Iterations:                     3                                         \n",
       "==============================================================================\n",
       "                 coef    std err          z      P>|z|      [0.025      0.975]\n",
       "------------------------------------------------------------------------------\n",
       "const          0.7852      0.343      2.286      0.022       0.112       1.458\n",
       "x1             1.5133      0.523      2.894      0.004       0.488       2.538\n",
       "==============================================================================\n",
       "\"\"\""
      ]
     },
     "execution_count": 81,
     "metadata": {},
     "output_type": "execute_result"
    }
   ],
   "source": [
    "import statsmodels.api as sm\n",
    "sm.GLM(y,bigX,family=sm.families.Binomial()).fit().summary()"
   ]
  },
  {
   "cell_type": "code",
   "execution_count": 102,
   "metadata": {},
   "outputs": [
    {
     "name": "stdout",
     "output_type": "stream",
     "text": [
      "[ 0.93100165  1.8875021 ]\n",
      "[ 0.38362526  0.28194649]\n"
     ]
    }
   ],
   "source": [
    "outp1 = np.zeros((1000,2))\n",
    "outp2 = np.zeros((1000,2))\n",
    "for isim in range(1000):\n",
    "    x = np.random.normal(size=(50,1))\n",
    "    e = np.random.normal(size=(50,1))\n",
    "    y = 0.5 + x + e\n",
    "    y = (y>=0).astype(int)\n",
    "    bigX = np.hstack((np.ones((50,1)),x))\n",
    "    b = root(deriv,x0=np.zeros((r,)),jac=hess)\n",
    "    outp1[isim,:] = b.x\n",
    "    outp2[isim,:] = np.sqrt(np.diagonal(-hess(b.x)/n))\n",
    "print(outp1.mean(0))\n",
    "print(outp2.mean(0))"
   ]
  }
 ],
 "metadata": {
  "kernelspec": {
   "display_name": "Python 3",
   "language": "python",
   "name": "python3"
  },
  "language_info": {
   "codemirror_mode": {
    "name": "ipython",
    "version": 3
   },
   "file_extension": ".py",
   "mimetype": "text/x-python",
   "name": "python",
   "nbconvert_exporter": "python",
   "pygments_lexer": "ipython3",
   "version": "3.6.1"
  }
 },
 "nbformat": 4,
 "nbformat_minor": 2
}
