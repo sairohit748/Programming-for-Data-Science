{
 "cells": [
  {
   "cell_type": "code",
   "execution_count": null,
   "metadata": {},
   "outputs": [],
   "source": [
    "## Import required packages\n",
    "import sqlite3\n",
    "import os\n",
    "import numpy as np\n",
    "import pandas as pd\n",
    "import statsmodels.api as sm\n",
    "import statsmodels.formula.api as smf\n",
    "from linearmodels.panel import PanelOLS\n",
    "from linearmodels.panel import PooledOLS\n",
    "from linearmodels.panel import BetweenOLS\n",
    "from linearmodels.panel import RandomEffects\n"
   ]
  },
  {
   "cell_type": "code",
   "execution_count": 3,
   "metadata": {},
   "outputs": [
    {
     "name": "stdout",
     "output_type": "stream",
     "text": [
      "             index  employ       sales   avgsal  scrap  rework  tothrs  union  \\\n",
      "fcode  year                                                                     \n",
      "410032 1987      0   100.0  47000000.0  35000.0    NaN     NaN    12.0      0   \n",
      "       1988      1   131.0  43000000.0  37000.0    NaN     NaN     8.0      0   \n",
      "       1989      2   123.0  49000000.0  39000.0    NaN     NaN     8.0      0   \n",
      "410440 1987      3    12.0   1560000.0  10500.0    NaN     NaN    12.0      0   \n",
      "       1988      4    13.0   1970000.0  11000.0    NaN     NaN    12.0      0   \n",
      "\n",
      "             grant  d89    ...     grant_1  clscrap  cgrant  clemploy  \\\n",
      "fcode  year                ...                                          \n",
      "410032 1987      0    0    ...           0      NaN       0       NaN   \n",
      "       1988      0    0    ...           0      NaN       0  0.270027   \n",
      "       1989      0    1    ...           0      NaN       0 -0.063013   \n",
      "410440 1987      0    0    ...           0      NaN       0       NaN   \n",
      "       1988      0    0    ...           0      NaN       0  0.080043   \n",
      "\n",
      "              clsales    lavgsal  clavgsal  cgrant_1   chrsemp  clhrsemp  \n",
      "fcode  year                                                               \n",
      "410032 1987       NaN  10.463100       NaN       NaN       NaN       NaN  \n",
      "       1988 -0.088949  10.518670  0.055570       0.0 -8.946565 -1.165385  \n",
      "       1989  0.130621  10.571320  0.052644       0.0  0.198597  0.047832  \n",
      "410440 1987       NaN   9.259130       NaN       NaN       NaN       NaN  \n",
      "       1988  0.233347   9.305651  0.046520       0.0  0.000000  0.000000  \n",
      "\n",
      "[5 rows x 29 columns]\n"
     ]
    },
    {
     "ename": "NameError",
     "evalue": "name 'PooledOLS' is not defined",
     "output_type": "error",
     "traceback": [
      "\u001b[1;31m---------------------------------------------------------------------------\u001b[0m",
      "\u001b[1;31mNameError\u001b[0m                                 Traceback (most recent call last)",
      "\u001b[1;32m<ipython-input-3-1e94e2e3579c>\u001b[0m in \u001b[0;36m<module>\u001b[1;34m()\u001b[0m\n\u001b[0;32m     25\u001b[0m \u001b[1;31m## Regress scrap~grant - Simple Model\u001b[0m\u001b[1;33m\u001b[0m\u001b[1;33m\u001b[0m\u001b[0m\n\u001b[0;32m     26\u001b[0m \u001b[1;31m## Model Pooled OLS\u001b[0m\u001b[1;33m\u001b[0m\u001b[1;33m\u001b[0m\u001b[0m\n\u001b[1;32m---> 27\u001b[1;33m \u001b[0mmodel_pool\u001b[0m\u001b[1;33m=\u001b[0m\u001b[0mPooledOLS\u001b[0m\u001b[1;33m(\u001b[0m\u001b[0mjtrain2\u001b[0m\u001b[1;33m.\u001b[0m\u001b[0mscrap\u001b[0m\u001b[1;33m,\u001b[0m\u001b[0mgrant0\u001b[0m\u001b[1;33m)\u001b[0m\u001b[1;33m\u001b[0m\u001b[0m\n\u001b[0m\u001b[0;32m     28\u001b[0m \u001b[0mpooled_res\u001b[0m \u001b[1;33m=\u001b[0m \u001b[0mmodel_pool\u001b[0m\u001b[1;33m.\u001b[0m\u001b[0mfit\u001b[0m\u001b[1;33m(\u001b[0m\u001b[1;33m)\u001b[0m\u001b[1;33m\u001b[0m\u001b[0m\n\u001b[0;32m     29\u001b[0m \u001b[0mprint\u001b[0m\u001b[1;33m(\u001b[0m\u001b[0mpooled_res\u001b[0m\u001b[1;33m)\u001b[0m\u001b[1;33m\u001b[0m\u001b[0m\n",
      "\u001b[1;31mNameError\u001b[0m: name 'PooledOLS' is not defined"
     ]
    }
   ],
   "source": [
    "np.random.seed(10)\n",
    "os.getcwd()\n",
    "path='D:\\\\STUDY\\\\SEM3 - summer\\\\Programming for Data Science'\n",
    "os.chdir(path)\n",
    "## Connect to Wooldridgedb\n",
    "con = sqlite3.connect(\"wooldridge.db\")\n",
    "c = con.cursor()\n",
    "c.execute('SELECT * FROM jtrain')\n",
    "## Read data into a Pandas Dataframe\n",
    "jtrain = pd.read_sql('SELECT * FROM jtrain',con)\n",
    "jtrain.head()\n",
    "jtrain[jtrain['grant']==1].count()\n",
    "scrap_panel_pool = smf.ols('scrap~d88+d89+grant+grant_1',data=jtrain).fit()\n",
    "scrap_panel_pool.summary()\n",
    "jtrain2=jtrain\n",
    "jtrain2[:5]\n",
    "## Define the ID and Time column for Panel Regression\n",
    "jtrain2=jtrain2.set_index(['fcode','year'])\n",
    "print(jtrain2.head(5))\n",
    "exog_vars=['d88','d89','grant','grant_1']\n",
    "grant_vars=['grant']\n",
    "exog=sm.add_constant(jtrain2[exog_vars])\n",
    "grant0=sm.add_constant(jtrain2[grant_vars])\n",
    "\n",
    "## Regress scrap~grant - Simple Model\n",
    "## Model Pooled OLS\n",
    "model_pool=PooledOLS(jtrain2.scrap,grant0)\n",
    "pooled_res = model_pool.fit()\n",
    "print(pooled_res)\n",
    "\n",
    "## Model Fixed Effects -- Entity and Time Effects - True\n",
    "model_fe=PanelOLS(jtrain2.scrap,grant0,entity_effects=True,time_effects=True)\n",
    "fe_res = model_fe.fit()\n",
    "print(fe_res)\n",
    "\n",
    "###############################################\n",
    "\n",
    "## Regress scrap~grant+d88+d89+grant_1 - More Models\n",
    "## Model Pooled OLS\n",
    "model_pool=PooledOLS(jtrain2.lscrap,exog)\n",
    "pooled_res = model_pool.fit()\n",
    "print(pooled_res)\n",
    "\n",
    "## Model Fixed Effects -- Entity and Time Effects - True\n",
    "model_fe=PanelOLS(jtrain2.lscrap,exog,entity_effects=True,time_effects=True)\n",
    "fe_res = model_fe.fit()\n",
    "print(fe_res)\n"
   ]
  }
 ],
 "metadata": {
  "kernelspec": {
   "display_name": "Python 3",
   "language": "python",
   "name": "python3"
  },
  "language_info": {
   "codemirror_mode": {
    "name": "ipython",
    "version": 3
   },
   "file_extension": ".py",
   "mimetype": "text/x-python",
   "name": "python",
   "nbconvert_exporter": "python",
   "pygments_lexer": "ipython3",
   "version": "3.6.4"
  }
 },
 "nbformat": 4,
 "nbformat_minor": 2
}
