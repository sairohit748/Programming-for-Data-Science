{
 "cells": [
  {
   "cell_type": "code",
   "execution_count": 1,
   "metadata": {},
   "outputs": [
    {
     "name": "stderr",
     "output_type": "stream",
     "text": [
      "C:\\Anaconda\\lib\\site-packages\\statsmodels\\compat\\pandas.py:56: FutureWarning: The pandas.core.datetools module is deprecated and will be removed in a future version. Please use the pandas.tseries module instead.\n",
      "  from pandas.core import datetools\n"
     ]
    }
   ],
   "source": [
    "import numpy as np\n",
    "import pandas as pd\n",
    "import matplotlib as mpl\n",
    "import matplotlib.pyplot as plt\n",
    "import statsmodels.formula.api as smf\n",
    "import statsmodels.api as sm"
   ]
  },
  {
   "cell_type": "code",
   "execution_count": 58,
   "metadata": {},
   "outputs": [
    {
     "data": {
      "text/plain": [
       "398.91503994985476"
      ]
     },
     "execution_count": 58,
     "metadata": {},
     "output_type": "execute_result"
    }
   ],
   "source": [
    "bwght = pd.read_csv('BWGHT.CSV')\n",
    "\n",
    "bwght.head(6)\n",
    "\n",
    "sample =  np.random.permutation(1388)\n",
    "train = sample[:int(1388/2)]\n",
    "test = sample[int(1388/2):]\n",
    "xdata = pd.concat((bwght['cigs'],bwght['faminc']),1).values\n",
    "xdata = sm.add_constant(xdata)\n",
    "ydata = bwght['bwght'].values\n",
    "model = smf.OLS(ydata[train],xdata[train]).fit()\n",
    "mspe = ((ydata[test]-model.predict(xdata[test]))**2).mean()\n",
    "mspe"
   ]
  },
  {
   "cell_type": "code",
   "execution_count": 57,
   "metadata": {},
   "outputs": [
    {
     "data": {
      "text/plain": [
       "array([ 422.93726797,  401.56619594,  431.60061667,  366.05398075])"
      ]
     },
     "execution_count": 57,
     "metadata": {},
     "output_type": "execute_result"
    }
   ],
   "source": [
    "sample = np.random.permutation(1388)\n",
    "xdata = pd.concat((bwght['cigs'],bwght['faminc']),1).values\n",
    "xdata = sm.add_constant(xdata)\n",
    "ydata = bwght['bwght'].values\n",
    "k = 4\n",
    "mspe = np.zeros(k)\n",
    "for j in range(k):    \n",
    "    train_l = sample[:int((3-j)*1388/k)]\n",
    "    train_u = sample[int((4-j)*1388/k):]\n",
    "    train = np.concatenate((train_l,train_u),0)\n",
    "    test = sample[int((3-j)*1388/k):int((4-j)*1388/k)]\n",
    "    model = smf.OLS(ydata[train],xdata[train]).fit()\n",
    "    mspe[j] = ((ydata[test]-model.predict(xdata[test]))**2).mean()\n",
    "mspe"
   ]
  },
  {
   "cell_type": "code",
   "execution_count": 53,
   "metadata": {},
   "outputs": [
    {
     "data": {
      "text/plain": [
       "array([ 0.,  0.,  0.,  0.])"
      ]
     },
     "execution_count": 53,
     "metadata": {},
     "output_type": "execute_result"
    }
   ],
   "source": [
    "np.zeros(4)"
   ]
  },
  {
   "cell_type": "code",
   "execution_count": 5,
   "metadata": {},
   "outputs": [
    {
     "name": "stdout",
     "output_type": "stream",
     "text": [
      "C:\\Users\\jap090020\\Dropbox\\UTDallas\\buan6340\\post\n"
     ]
    }
   ],
   "source": [
    "cd \"C:/Users/jap090020/Dropbox/UTDallas/buan6340/post\""
   ]
  },
  {
   "cell_type": "code",
   "execution_count": 59,
   "metadata": {
    "collapsed": true
   },
   "outputs": [],
   "source": [
    "import sqlite3"
   ]
  },
  {
   "cell_type": "code",
   "execution_count": 67,
   "metadata": {
    "collapsed": true
   },
   "outputs": [],
   "source": [
    "con = sqlite3.connect(\"bwght.db\")\n",
    "# con = sqlite3.connect(\":memory:\")\n",
    "c = con.cursor()\n"
   ]
  },
  {
   "cell_type": "code",
   "execution_count": 63,
   "metadata": {
    "collapsed": true
   },
   "outputs": [],
   "source": [
    "bwght.to_sql('BTABLE',con)"
   ]
  },
  {
   "cell_type": "code",
   "execution_count": 65,
   "metadata": {},
   "outputs": [
    {
     "name": "stdout",
     "output_type": "stream",
     "text": [
      "[(1303, 27.5, 2.5, 109.4, 90, None, 12.0, 5, 1, 0, 50, 4.49981, 5.625, 2.5, 3.314186)]\n"
     ]
    }
   ],
   "source": [
    "c.execute('SELECT * FROM BTABLE WHERE cigs=50')\n",
    "print(c.fetchall())"
   ]
  },
  {
   "cell_type": "code",
   "execution_count": 68,
   "metadata": {
    "collapsed": true
   },
   "outputs": [],
   "source": [
    "def hailstone(x):\n",
    "    step = 0\n",
    "    while x!=1:\n",
    "        step += 1\n",
    "        x = x/2 if x%2==0 else 3*x+1\n",
    "    return step"
   ]
  },
  {
   "cell_type": "code",
   "execution_count": 69,
   "metadata": {},
   "outputs": [
    {
     "name": "stdout",
     "output_type": "stream",
     "text": [
      "(8, 40)\n",
      "(8, 40)\n",
      "(8, 40)\n",
      "(8, 40)\n",
      "(8, 40)\n",
      "(16, 46)\n",
      "(8, 40)\n",
      "(24, 50)\n"
     ]
    }
   ],
   "source": [
    "con.create_function('hs',1,hailstone)\n",
    "c.execute('SELECT hs(cigs), cigs FROM BTABLE WHERE cigs>30')\n",
    "for item in c.fetchall():\n",
    "    print(item)"
   ]
  },
  {
   "cell_type": "code",
   "execution_count": null,
   "metadata": {
    "collapsed": true
   },
   "outputs": [],
   "source": []
  },
  {
   "cell_type": "code",
   "execution_count": 70,
   "metadata": {
    "collapsed": true
   },
   "outputs": [],
   "source": [
    "class geomean:\n",
    "    def __init__(self): # Constructor\n",
    "        self.sum = 0\n",
    "        self.count = 0\n",
    "    def step(self,value): # What to do when we get a new value\n",
    "        self.sum += np.log(value)\n",
    "        self.count += 1\n",
    "    def finalize(self):\n",
    "        return np.exp(self.sum/self.count)"
   ]
  },
  {
   "cell_type": "code",
   "execution_count": 74,
   "metadata": {
    "collapsed": true
   },
   "outputs": [],
   "source": [
    "class geomean2:\n",
    "    def __init__(self): # Constructor\n",
    "        self.prod = 1\n",
    "        self.count = 0\n",
    "    def step(self,value): # What to do when we get a new value\n",
    "        self.prod *= value\n",
    "        self.count += 1\n",
    "    def finalize(self):\n",
    "        return (self.prod)**(1/self.count)"
   ]
  },
  {
   "cell_type": "code",
   "execution_count": 73,
   "metadata": {
    "scrolled": true
   },
   "outputs": [
    {
     "name": "stdout",
     "output_type": "stream",
     "text": [
      "(118.12914912512608, 0, 1176)\n",
      "(122.01151015653141, 1, 3)\n",
      "(108.25224006111848, 2, 4)\n",
      "(114.32987300163663, 3, 7)\n",
      "(108.60626107277508, 4, 9)\n",
      "(112.90200845344134, 5, 19)\n",
      "(121.44933131428813, 6, 6)\n",
      "(119.16422565354631, 7, 4)\n",
      "(87.69083957636508, 8, 5)\n",
      "(127.99999999999997, 9, 1)\n",
      "(110.78738483467163, 10, 55)\n",
      "(105.91537925146471, 12, 5)\n",
      "(106.73221579113947, 15, 19)\n",
      "(108.05121183968193, 20, 62)\n",
      "(106.91073090784444, 30, 5)\n",
      "(104.74271003586932, 40, 6)\n",
      "(121.00000000000003, 46, 1)\n",
      "(90.0, 50, 1)\n"
     ]
    }
   ],
   "source": [
    "con.create_aggregate(\"GEO\",1,geomean)\n",
    "c.execute('SELECT GEO(bwght),cigs,COUNT(bwght) FROM BTABLE GROUP BY cigs;')\n",
    "for item in c.fetchall():\n",
    "    print(item)"
   ]
  },
  {
   "cell_type": "code",
   "execution_count": 77,
   "metadata": {},
   "outputs": [
    {
     "name": "stdout",
     "output_type": "stream",
     "text": [
      "(122.01151015653136, 1, 3)\n",
      "(108.25224006111847, 2, 4)\n",
      "(114.32987300163668, 3, 7)\n",
      "(108.60626107277498, 4, 9)\n",
      "(112.90200845344124, 5, 19)\n",
      "(121.44933131428802, 6, 6)\n",
      "(119.16422565354631, 7, 4)\n",
      "(87.69083957636506, 8, 5)\n",
      "(128.0, 9, 1)\n",
      "(110.7873848346715, 10, 55)\n",
      "(105.9153792514647, 12, 5)\n",
      "(106.73221579113957, 15, 19)\n",
      "(108.05121183968178, 20, 62)\n",
      "(106.91073090784451, 30, 5)\n",
      "(104.74271003586931, 40, 6)\n",
      "(121.0, 46, 1)\n",
      "(90.0, 50, 1)\n"
     ]
    }
   ],
   "source": [
    "con.create_aggregate(\"GEO2\",1,geomean2)\n",
    "c.execute('SELECT GEO2(bwght),cigs,COUNT(bwght) FROM BTABLE WHERE cigs>0 GROUP BY cigs ;')\n",
    "for item in c.fetchall():\n",
    "    print(item)"
   ]
  },
  {
   "cell_type": "code",
   "execution_count": 66,
   "metadata": {
    "collapsed": true
   },
   "outputs": [],
   "source": [
    "con.commit()\n",
    "con.close()"
   ]
  },
  {
   "cell_type": "code",
   "execution_count": 102,
   "metadata": {},
   "outputs": [
    {
     "data": {
      "text/plain": [
       "array([ 116.97413048,   -0.46340754,    0.09276474])"
      ]
     },
     "execution_count": 102,
     "metadata": {},
     "output_type": "execute_result"
    }
   ],
   "source": [
    "xdata = pd.concat((bwght['cigs'],bwght['faminc']),1).values\n",
    "xdata = sm.add_constant(xdata)\n",
    "ydata = bwght['bwght'].values\n",
    "model = smf.OLS(ydata,xdata).fit()\n",
    "beta = model.params\n",
    "resid = ydata-model.predict()\n",
    "beta"
   ]
  },
  {
   "cell_type": "code",
   "execution_count": 104,
   "metadata": {},
   "outputs": [
    {
     "data": {
      "text/plain": [
       "array([[ 115.75988149,   -0.0403791 ,    0.12711485],\n",
       "       [ 116.32531678,   -0.07829199,    0.10961686],\n",
       "       [ 116.1047558 ,    0.13365071,    0.08335042],\n",
       "       ..., \n",
       "       [ 117.05160219,    0.05145657,    0.08013914],\n",
       "       [ 118.28630532,   -0.14770299,    0.05120206],\n",
       "       [ 117.99727985,    0.03185845,    0.06469627]])"
      ]
     },
     "execution_count": 104,
     "metadata": {},
     "output_type": "execute_result"
    }
   ],
   "source": [
    "#beta[1] = 0.0\n",
    "bstar = np.zeros((10000,3))\n",
    "for isim in range(10000):\n",
    "    sample =  np.random.randint(low=0,high=1388,size=(1388,))\n",
    "    xxdata = xdata[sample]\n",
    "    yydata = xxdata.dot(beta)+resid[sample]\n",
    "    model = smf.OLS(yydata,xxdata).fit()\n",
    "    bstar[isim,:] = model.params\n",
    "bstar"
   ]
  },
  {
   "cell_type": "code",
   "execution_count": 105,
   "metadata": {},
   "outputs": [
    {
     "name": "stdout",
     "output_type": "stream",
     "text": [
      "[ 114.96070174   -0.17746492    0.03597279]\n",
      "[ 118.9930044     0.16916835    0.14896821]\n"
     ]
    }
   ],
   "source": [
    "np.set_printoptions(suppress=True)\n",
    "bstar[:,0].sort()\n",
    "bstar[:,1].sort()\n",
    "bstar[:,2].sort()\n",
    "print(bstar[int(10000*0.025)])\n",
    "print(bstar[int(10000*0.975)])"
   ]
  },
  {
   "cell_type": "code",
   "execution_count": 118,
   "metadata": {},
   "outputs": [
    {
     "data": {
      "text/plain": [
       "array([ 111.51182089,   -5.06031465,    3.17819498])"
      ]
     },
     "execution_count": 118,
     "metadata": {},
     "output_type": "execute_result"
    }
   ],
   "source": [
    "xdata = pd.concat((bwght['cigs'],bwght['faminc']),1).values\n",
    "xdata = sm.add_constant(xdata)\n",
    "ydata = bwght['bwght'].values\n",
    "model = smf.OLS(ydata,xdata).fit()\n",
    "beta = model.params\n",
    "resid = ydata-model.predict()\n",
    "model.tvalues"
   ]
  },
  {
   "cell_type": "code",
   "execution_count": 114,
   "metadata": {},
   "outputs": [
    {
     "name": "stdout",
     "output_type": "stream",
     "text": [
      "[-1.94493614 -1.91895985 -1.91704485]\n",
      "[ 1.92886679  1.90037637  1.89645557]\n"
     ]
    }
   ],
   "source": [
    "beta = np.zeros((3,))\n",
    "tstar = np.zeros((10000,3))\n",
    "for isim in range(10000):\n",
    "    sample =  np.random.randint(low=0,high=1388,size=(1388,))\n",
    "    xxdata = xdata[sample]\n",
    "    yydata = xxdata.dot(beta)+resid[sample]\n",
    "    model = smf.OLS(yydata,xxdata).fit()\n",
    "    tstar[isim,:] = model.tvalues\n",
    "tstar[:,0].sort()\n",
    "tstar[:,1].sort()\n",
    "tstar[:,2].sort()\n",
    "print(tstar[int(10000*0.025)])\n",
    "print(tstar[int(10000*0.975)])"
   ]
  },
  {
   "cell_type": "code",
   "execution_count": 113,
   "metadata": {},
   "outputs": [
    {
     "name": "stdout",
     "output_type": "stream",
     "text": [
      "[-1.9272547  -1.89883774 -1.90314497]\n",
      "[ 1.9493734   1.86575141  1.9077566 ]\n"
     ]
    }
   ],
   "source": []
  }
 ],
 "metadata": {
  "kernelspec": {
   "display_name": "Python 3",
   "language": "python",
   "name": "python3"
  },
  "language_info": {
   "codemirror_mode": {
    "name": "ipython",
    "version": 3
   },
   "file_extension": ".py",
   "mimetype": "text/x-python",
   "name": "python",
   "nbconvert_exporter": "python",
   "pygments_lexer": "ipython3",
   "version": "3.6.1"
  }
 },
 "nbformat": 4,
 "nbformat_minor": 2
}
