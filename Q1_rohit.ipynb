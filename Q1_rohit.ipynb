{
 "cells": [
  {
   "cell_type": "code",
   "execution_count": 1,
   "metadata": {},
   "outputs": [
    {
     "name": "stderr",
     "output_type": "stream",
     "text": [
      "C:\\Users\\Rohit\\Anaconda3\\lib\\site-packages\\statsmodels\\compat\\pandas.py:56: FutureWarning: The pandas.core.datetools module is deprecated and will be removed in a future version. Please use the pandas.tseries module instead.\n",
      "  from pandas.core import datetools\n"
     ]
    }
   ],
   "source": [
    "### Import np and statsmodel packages for running regression\n",
    "\n",
    "import numpy as np\n",
    "import pandas as pd\n",
    "import statsmodels.api as sm\n",
    "import statsmodels.formula.api as smf\n",
    "import matplotlib.pyplot as plt\n",
    "import matplotlib.mlab as mlab\n",
    "import math\n",
    "np.random.seed(100) "
   ]
  },
  {
   "cell_type": "code",
   "execution_count": 2,
   "metadata": {},
   "outputs": [
    {
     "data": {
      "text/plain": [
       "array([[[50.        ,  2.        , 49.43381679, 48.41983323,\n",
       "         -1.01398356],\n",
       "        [50.        ,  4.        , 48.84806183, 46.00621442,\n",
       "         -2.84184742],\n",
       "        [50.        ,  8.        , 49.24009033, 41.93946626,\n",
       "         -7.30062406],\n",
       "        [50.        , 10.        , 48.88607264, 40.38242014,\n",
       "         -8.5036525 ]]])"
      ]
     },
     "execution_count": 2,
     "metadata": {},
     "output_type": "execute_result"
    }
   ],
   "source": [
    "### Cross Validation  Complete code as explained by professor         \n",
    "sig=0.5\n",
    "T=50\n",
    "bigT=T*2\n",
    "mu_x=1\n",
    "sig_x=2\n",
    "k=4\n",
    "nsim = 1000\n",
    "kvec = [2,4,8,10]\n",
    "Tvec = [50]\n",
    "b0= 1\n",
    "b1=2.5\n",
    "outp =np.zeros((nsim,len(Tvec),len(kvec),5))\n",
    "for tdx,T in enumerate(Tvec):\n",
    "    bigT = T*2\n",
    "    for kdx,k in enumerate(kvec):\n",
    "        for isim in range(nsim):\n",
    "            e = np.random.normal(0,sig,size=(bigT,1))\n",
    "            x = np.random.normal(mu_x,sig_x,size=(bigT,1))\n",
    "            x_t=x\n",
    "            y=b0+(b1*x_t)+e\n",
    "            x_t = sm.add_constant(x)\n",
    "            sample = np.random.permutation(bigT)\n",
    "            train = sample[:int(bigT/2)]\n",
    "            test = sample[int(bigT/2):]\n",
    "            ytr = y[train]\n",
    "            xtr = x_t[train]\n",
    "            model=smf.OLS(y[train],x_t[train]).fit()\n",
    "            mspe_true = ((y[test]-model.predict(x_t[test]))**2).mean()\n",
    "            sample = np.random.permutation(T)\n",
    "            mspe =np.zeros(k)\n",
    "            for j in range(k):    \n",
    "                train_l = sample[:int((k-1-j)*T/k)]\n",
    "                train_u = sample[int((k-j)*T/k):]\n",
    "                train = np.concatenate((train_l,train_u),0)\n",
    "                test = sample[int((k-1-j)*T/k):int((k-j)*T/k)]\n",
    "                model = smf.OLS(ytr[train],xtr[train]).fit()\n",
    "                mspe[j] = ((ytr[test]-model.predict(xtr[test]))**2).mean()\n",
    "            mspe_cv = mspe.mean()\n",
    "            outp[isim,tdx,kdx] = np.array((T,k,mspe_true,mspe_cv,mspe_cv-mspe_true))\n",
    "\n",
    "outp[:,:,:].mean(0)"
   ]
  },
  {
   "cell_type": "code",
   "execution_count": null,
   "metadata": {},
   "outputs": [],
   "source": [
    "#estimation can improved by increasing the folds of cross validation procedure"
   ]
  },
  {
   "cell_type": "code",
   "execution_count": null,
   "metadata": {},
   "outputs": [],
   "source": []
  }
 ],
 "metadata": {
  "kernelspec": {
   "display_name": "Python 3",
   "language": "python",
   "name": "python3"
  },
  "language_info": {
   "codemirror_mode": {
    "name": "ipython",
    "version": 3
   },
   "file_extension": ".py",
   "mimetype": "text/x-python",
   "name": "python",
   "nbconvert_exporter": "python",
   "pygments_lexer": "ipython3",
   "version": "3.6.4"
  }
 },
 "nbformat": 4,
 "nbformat_minor": 2
}
