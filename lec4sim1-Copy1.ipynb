{
 "cells": [
  {
   "cell_type": "code",
   "execution_count": 23,
   "metadata": {},
   "outputs": [],
   "source": [
    "import numpy as np\n",
    "import pandas as pd\n",
    "import statsmodels.api as sm\n",
    "import statsmodels.formula.api as smf"
   ]
  },
  {
   "cell_type": "code",
   "execution_count": 63,
   "metadata": {},
   "outputs": [
    {
     "name": "stdout",
     "output_type": "stream",
     "text": [
      "[[0.22184821 0.38875925 0.50584353 0.65140019 0.78877034]\n",
      " [0.23694589 0.402169   0.51762008 0.63139547 0.79029553]\n",
      " [0.23924125 0.41080148 0.51501152 0.65317522 0.78573653]\n",
      " [0.23488156 0.38744531 0.51193029 0.63524951 0.78631503]\n",
      " [0.23412321 0.3892416  0.50627958 0.63195179 0.78415622]]\n"
     ]
    }
   ],
   "source": [
    "sig = 0.5\n",
    "rho=1\n",
    "nsim = 1000\n",
    "Tvec = [10,25,50,100,250]\n",
    "nvec = [1,2,3,5,10]\n",
    "holding_place = np.zeros((nsim,len(Tvec),len(nvec)))\n",
    "for ndx,n in enumerate(nvec):\n",
    "    for tdx,T in enumerate(Tvec):\n",
    "        for isim in range(nsim):\n",
    "            y = np.random.normal(0,sig,size=(T+100,1))\n",
    "            for t in range(1,T+100):\n",
    "                y[t] += rho*y[t-1]\n",
    "            x = np.random.normal(0,sig,size=(T+100,n))\n",
    "            for t in range(1,T+100):\n",
    "                x[t] += rho*x[t-1]\n",
    "            x = sm.add_constant(x)\n",
    "            model = smf.OLS(y,x).fit()\n",
    "            #np.vstack((x.mean(0),x.std(0))).T\n",
    "            holding_place[isim,tdx,ndx] = model.rsquared\n",
    "print(holding_place.mean(0))"
   ]
  },
  {
   "cell_type": "code",
   "execution_count": 64,
   "metadata": {},
   "outputs": [
    {
     "name": "stdout",
     "output_type": "stream",
     "text": [
      "[[0.00917212 0.01739606 0.02780322 0.04516604 0.09197386]\n",
      " [0.00831447 0.01661638 0.0245718  0.03990989 0.07907376]\n",
      " [0.00641464 0.01321495 0.02013397 0.03268059 0.06570967]\n",
      " [0.00487562 0.00980557 0.01476621 0.02487284 0.04970818]\n",
      " [0.00270889 0.00598487 0.00822677 0.01439156 0.02857625]]\n"
     ]
    }
   ],
   "source": [
    "sig = 0.5\n",
    "rho=1\n",
    "nsim = 1000\n",
    "Tvec = [10,25,50,100,250]\n",
    "nvec = [1,2,3,5,10]\n",
    "holding_place = np.zeros((nsim,len(Tvec),len(nvec)))\n",
    "for ndx,n in enumerate(nvec):\n",
    "    for tdx,T in enumerate(Tvec):\n",
    "        for isim in range(nsim):\n",
    "            y = np.random.normal(0,sig,size=(T+100,1))\n",
    "            x = np.random.normal(0,sig,size=(T+100,n))\n",
    "            x = sm.add_constant(x)\n",
    "            model = smf.OLS(y,x).fit()\n",
    "            #np.vstack((x.mean(0),x.std(0))).T\n",
    "            holding_place[isim,tdx,ndx] = model.rsquared\n",
    "print(holding_place.mean(0))"
   ]
  }
 ],
 "metadata": {
  "kernelspec": {
   "display_name": "Python 3",
   "language": "python",
   "name": "python3"
  },
  "language_info": {
   "codemirror_mode": {
    "name": "ipython",
    "version": 3
   },
   "file_extension": ".py",
   "mimetype": "text/x-python",
   "name": "python",
   "nbconvert_exporter": "python",
   "pygments_lexer": "ipython3",
   "version": "3.6.4"
  }
 },
 "nbformat": 4,
 "nbformat_minor": 2
}
